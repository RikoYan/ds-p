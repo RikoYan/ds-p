{
 "cells": [
  {
   "cell_type": "markdown",
   "id": "393e2c6b-97cf-43f0-8a95-63de9e1cbec2",
   "metadata": {},
   "source": [
    "# Proyek Analisis Data: Bike Sharing"
   ]
  },
  {
   "cell_type": "markdown",
   "id": "fe70f104-dee8-4a46-903f-db9fcb5b991e",
   "metadata": {},
   "source": [
    "- Nama: Riko Yan Suryana\n",
    "- Email: rikoyan23@gmail.com\n",
    "- Id Dicoding: riko_yan_suryana"
   ]
  },
  {
   "cell_type": "markdown",
   "id": "6b7c6482-7b8e-4a5d-adbf-384689eb9dbf",
   "metadata": {},
   "source": [
    "## Menentukan Pertanyaan Bisnis"
   ]
  },
  {
   "cell_type": "markdown",
   "id": "9905f83d-d093-4688-9c60-c33c3e29bd15",
   "metadata": {},
   "source": [
    "- Berapa banyak total pengguna dalam beberapa bulan terakhir\n",
    "- Season apa yang paling banyak penggunanya dan paling sedikit\n",
    "- Bagaimana kebiasaan pengguna dalam menggunakan bike rental"
   ]
  },
  {
   "cell_type": "markdown",
   "id": "1560f23d-d18d-4607-874a-95926efab7e0",
   "metadata": {},
   "source": [
    "## Menyiapkan Library yang dipakai"
   ]
  },
  {
   "cell_type": "code",
   "execution_count": 1,
   "id": "743131d6-29bc-48af-bff7-9f5a7209aa43",
   "metadata": {},
   "outputs": [],
   "source": [
    "import numpy as np\n",
    "import pandas as pd\n",
    "import matplotlib.pyplot as plt\n",
    "import seaborn as sns"
   ]
  },
  {
   "cell_type": "markdown",
   "id": "0c54cf93-ae53-4018-867e-f6b40e6c1601",
   "metadata": {},
   "source": [
    "## Data Wrangling"
   ]
  },
  {
   "cell_type": "markdown",
   "id": "590470bf-a0f1-4b44-8c60-b88e3e8e165c",
   "metadata": {},
   "source": [
    "### Gathering Data"
   ]
  },
  {
   "cell_type": "code",
   "execution_count": 2,
   "id": "7af9fd68-0923-4c91-ac2e-6452359784e1",
   "metadata": {},
   "outputs": [
    {
     "data": {
      "text/html": [
       "<div>\n",
       "<style scoped>\n",
       "    .dataframe tbody tr th:only-of-type {\n",
       "        vertical-align: middle;\n",
       "    }\n",
       "\n",
       "    .dataframe tbody tr th {\n",
       "        vertical-align: top;\n",
       "    }\n",
       "\n",
       "    .dataframe thead th {\n",
       "        text-align: right;\n",
       "    }\n",
       "</style>\n",
       "<table border=\"1\" class=\"dataframe\">\n",
       "  <thead>\n",
       "    <tr style=\"text-align: right;\">\n",
       "      <th></th>\n",
       "      <th>instant</th>\n",
       "      <th>dteday</th>\n",
       "      <th>season</th>\n",
       "      <th>yr</th>\n",
       "      <th>mnth</th>\n",
       "      <th>holiday</th>\n",
       "      <th>weekday</th>\n",
       "      <th>workingday</th>\n",
       "      <th>weathersit</th>\n",
       "      <th>temp</th>\n",
       "      <th>atemp</th>\n",
       "      <th>hum</th>\n",
       "      <th>windspeed</th>\n",
       "      <th>casual</th>\n",
       "      <th>registered</th>\n",
       "      <th>cnt</th>\n",
       "    </tr>\n",
       "  </thead>\n",
       "  <tbody>\n",
       "    <tr>\n",
       "      <th>0</th>\n",
       "      <td>1</td>\n",
       "      <td>2011-01-01</td>\n",
       "      <td>1</td>\n",
       "      <td>0</td>\n",
       "      <td>1</td>\n",
       "      <td>0</td>\n",
       "      <td>6</td>\n",
       "      <td>0</td>\n",
       "      <td>2</td>\n",
       "      <td>0.344167</td>\n",
       "      <td>0.363625</td>\n",
       "      <td>0.805833</td>\n",
       "      <td>0.160446</td>\n",
       "      <td>331</td>\n",
       "      <td>654</td>\n",
       "      <td>985</td>\n",
       "    </tr>\n",
       "    <tr>\n",
       "      <th>1</th>\n",
       "      <td>2</td>\n",
       "      <td>2011-01-02</td>\n",
       "      <td>1</td>\n",
       "      <td>0</td>\n",
       "      <td>1</td>\n",
       "      <td>0</td>\n",
       "      <td>0</td>\n",
       "      <td>0</td>\n",
       "      <td>2</td>\n",
       "      <td>0.363478</td>\n",
       "      <td>0.353739</td>\n",
       "      <td>0.696087</td>\n",
       "      <td>0.248539</td>\n",
       "      <td>131</td>\n",
       "      <td>670</td>\n",
       "      <td>801</td>\n",
       "    </tr>\n",
       "    <tr>\n",
       "      <th>2</th>\n",
       "      <td>3</td>\n",
       "      <td>2011-01-03</td>\n",
       "      <td>1</td>\n",
       "      <td>0</td>\n",
       "      <td>1</td>\n",
       "      <td>0</td>\n",
       "      <td>1</td>\n",
       "      <td>1</td>\n",
       "      <td>1</td>\n",
       "      <td>0.196364</td>\n",
       "      <td>0.189405</td>\n",
       "      <td>0.437273</td>\n",
       "      <td>0.248309</td>\n",
       "      <td>120</td>\n",
       "      <td>1229</td>\n",
       "      <td>1349</td>\n",
       "    </tr>\n",
       "    <tr>\n",
       "      <th>3</th>\n",
       "      <td>4</td>\n",
       "      <td>2011-01-04</td>\n",
       "      <td>1</td>\n",
       "      <td>0</td>\n",
       "      <td>1</td>\n",
       "      <td>0</td>\n",
       "      <td>2</td>\n",
       "      <td>1</td>\n",
       "      <td>1</td>\n",
       "      <td>0.200000</td>\n",
       "      <td>0.212122</td>\n",
       "      <td>0.590435</td>\n",
       "      <td>0.160296</td>\n",
       "      <td>108</td>\n",
       "      <td>1454</td>\n",
       "      <td>1562</td>\n",
       "    </tr>\n",
       "    <tr>\n",
       "      <th>4</th>\n",
       "      <td>5</td>\n",
       "      <td>2011-01-05</td>\n",
       "      <td>1</td>\n",
       "      <td>0</td>\n",
       "      <td>1</td>\n",
       "      <td>0</td>\n",
       "      <td>3</td>\n",
       "      <td>1</td>\n",
       "      <td>1</td>\n",
       "      <td>0.226957</td>\n",
       "      <td>0.229270</td>\n",
       "      <td>0.436957</td>\n",
       "      <td>0.186900</td>\n",
       "      <td>82</td>\n",
       "      <td>1518</td>\n",
       "      <td>1600</td>\n",
       "    </tr>\n",
       "  </tbody>\n",
       "</table>\n",
       "</div>"
      ],
      "text/plain": [
       "   instant      dteday  season  yr  mnth  holiday  weekday  workingday  \\\n",
       "0        1  2011-01-01       1   0     1        0        6           0   \n",
       "1        2  2011-01-02       1   0     1        0        0           0   \n",
       "2        3  2011-01-03       1   0     1        0        1           1   \n",
       "3        4  2011-01-04       1   0     1        0        2           1   \n",
       "4        5  2011-01-05       1   0     1        0        3           1   \n",
       "\n",
       "   weathersit      temp     atemp       hum  windspeed  casual  registered  \\\n",
       "0           2  0.344167  0.363625  0.805833   0.160446     331         654   \n",
       "1           2  0.363478  0.353739  0.696087   0.248539     131         670   \n",
       "2           1  0.196364  0.189405  0.437273   0.248309     120        1229   \n",
       "3           1  0.200000  0.212122  0.590435   0.160296     108        1454   \n",
       "4           1  0.226957  0.229270  0.436957   0.186900      82        1518   \n",
       "\n",
       "    cnt  \n",
       "0   985  \n",
       "1   801  \n",
       "2  1349  \n",
       "3  1562  \n",
       "4  1600  "
      ]
     },
     "execution_count": 2,
     "metadata": {},
     "output_type": "execute_result"
    }
   ],
   "source": [
    "day_df = pd.read_csv('https://raw.githubusercontent.com/RikoYan/ds-p/main/day.csv')\n",
    "day_df.head()"
   ]
  },
  {
   "cell_type": "markdown",
   "id": "f9efeb22-6ed0-4604-bfa0-cbc59827145d",
   "metadata": {},
   "source": [
    "### Assessing Data"
   ]
  },
  {
   "cell_type": "code",
   "execution_count": 3,
   "id": "e1393257-8a32-4d3b-be5d-e254bbe54316",
   "metadata": {},
   "outputs": [
    {
     "name": "stdout",
     "output_type": "stream",
     "text": [
      "<class 'pandas.core.frame.DataFrame'>\n",
      "RangeIndex: 731 entries, 0 to 730\n",
      "Data columns (total 16 columns):\n",
      " #   Column      Non-Null Count  Dtype  \n",
      "---  ------      --------------  -----  \n",
      " 0   instant     731 non-null    int64  \n",
      " 1   dteday      731 non-null    object \n",
      " 2   season      731 non-null    int64  \n",
      " 3   yr          731 non-null    int64  \n",
      " 4   mnth        731 non-null    int64  \n",
      " 5   holiday     731 non-null    int64  \n",
      " 6   weekday     731 non-null    int64  \n",
      " 7   workingday  731 non-null    int64  \n",
      " 8   weathersit  731 non-null    int64  \n",
      " 9   temp        731 non-null    float64\n",
      " 10  atemp       731 non-null    float64\n",
      " 11  hum         731 non-null    float64\n",
      " 12  windspeed   731 non-null    float64\n",
      " 13  casual      731 non-null    int64  \n",
      " 14  registered  731 non-null    int64  \n",
      " 15  cnt         731 non-null    int64  \n",
      "dtypes: float64(4), int64(11), object(1)\n",
      "memory usage: 91.5+ KB\n"
     ]
    }
   ],
   "source": [
    "day_df.info()"
   ]
  },
  {
   "cell_type": "code",
   "execution_count": 4,
   "id": "6078df9a-73fe-41ba-8f72-e51e57cf03c6",
   "metadata": {},
   "outputs": [
    {
     "name": "stdout",
     "output_type": "stream",
     "text": [
      "Jumlah duplikasi:  0\n"
     ]
    }
   ],
   "source": [
    "print(\"Jumlah duplikasi: \", day_df.duplicated().sum())"
   ]
  },
  {
   "cell_type": "markdown",
   "id": "2c11aa76-00d4-4409-a5b9-8486fb4a9d44",
   "metadata": {},
   "source": [
    "Pada dataset day_df ini kita tidak menemui data yang hilang ataupun data yang terduplikasi tapi ada kesalahan tipe data pada kolom dteday yang seharusnya bertipe data datetime"
   ]
  },
  {
   "cell_type": "code",
   "execution_count": 5,
   "id": "06d4ff7e-ec6c-4e2d-9222-c0fe375df255",
   "metadata": {},
   "outputs": [
    {
     "data": {
      "text/html": [
       "<div>\n",
       "<style scoped>\n",
       "    .dataframe tbody tr th:only-of-type {\n",
       "        vertical-align: middle;\n",
       "    }\n",
       "\n",
       "    .dataframe tbody tr th {\n",
       "        vertical-align: top;\n",
       "    }\n",
       "\n",
       "    .dataframe thead th {\n",
       "        text-align: right;\n",
       "    }\n",
       "</style>\n",
       "<table border=\"1\" class=\"dataframe\">\n",
       "  <thead>\n",
       "    <tr style=\"text-align: right;\">\n",
       "      <th></th>\n",
       "      <th>instant</th>\n",
       "      <th>season</th>\n",
       "      <th>yr</th>\n",
       "      <th>mnth</th>\n",
       "      <th>holiday</th>\n",
       "      <th>weekday</th>\n",
       "      <th>workingday</th>\n",
       "      <th>weathersit</th>\n",
       "      <th>temp</th>\n",
       "      <th>atemp</th>\n",
       "      <th>hum</th>\n",
       "      <th>windspeed</th>\n",
       "      <th>casual</th>\n",
       "      <th>registered</th>\n",
       "      <th>cnt</th>\n",
       "    </tr>\n",
       "  </thead>\n",
       "  <tbody>\n",
       "    <tr>\n",
       "      <th>count</th>\n",
       "      <td>731.000000</td>\n",
       "      <td>731.000000</td>\n",
       "      <td>731.000000</td>\n",
       "      <td>731.000000</td>\n",
       "      <td>731.000000</td>\n",
       "      <td>731.000000</td>\n",
       "      <td>731.000000</td>\n",
       "      <td>731.000000</td>\n",
       "      <td>731.000000</td>\n",
       "      <td>731.000000</td>\n",
       "      <td>731.000000</td>\n",
       "      <td>731.000000</td>\n",
       "      <td>731.000000</td>\n",
       "      <td>731.000000</td>\n",
       "      <td>731.000000</td>\n",
       "    </tr>\n",
       "    <tr>\n",
       "      <th>mean</th>\n",
       "      <td>366.000000</td>\n",
       "      <td>2.496580</td>\n",
       "      <td>0.500684</td>\n",
       "      <td>6.519836</td>\n",
       "      <td>0.028728</td>\n",
       "      <td>2.997264</td>\n",
       "      <td>0.683995</td>\n",
       "      <td>1.395349</td>\n",
       "      <td>0.495385</td>\n",
       "      <td>0.474354</td>\n",
       "      <td>0.627894</td>\n",
       "      <td>0.190486</td>\n",
       "      <td>848.176471</td>\n",
       "      <td>3656.172367</td>\n",
       "      <td>4504.348837</td>\n",
       "    </tr>\n",
       "    <tr>\n",
       "      <th>std</th>\n",
       "      <td>211.165812</td>\n",
       "      <td>1.110807</td>\n",
       "      <td>0.500342</td>\n",
       "      <td>3.451913</td>\n",
       "      <td>0.167155</td>\n",
       "      <td>2.004787</td>\n",
       "      <td>0.465233</td>\n",
       "      <td>0.544894</td>\n",
       "      <td>0.183051</td>\n",
       "      <td>0.162961</td>\n",
       "      <td>0.142429</td>\n",
       "      <td>0.077498</td>\n",
       "      <td>686.622488</td>\n",
       "      <td>1560.256377</td>\n",
       "      <td>1937.211452</td>\n",
       "    </tr>\n",
       "    <tr>\n",
       "      <th>min</th>\n",
       "      <td>1.000000</td>\n",
       "      <td>1.000000</td>\n",
       "      <td>0.000000</td>\n",
       "      <td>1.000000</td>\n",
       "      <td>0.000000</td>\n",
       "      <td>0.000000</td>\n",
       "      <td>0.000000</td>\n",
       "      <td>1.000000</td>\n",
       "      <td>0.059130</td>\n",
       "      <td>0.079070</td>\n",
       "      <td>0.000000</td>\n",
       "      <td>0.022392</td>\n",
       "      <td>2.000000</td>\n",
       "      <td>20.000000</td>\n",
       "      <td>22.000000</td>\n",
       "    </tr>\n",
       "    <tr>\n",
       "      <th>25%</th>\n",
       "      <td>183.500000</td>\n",
       "      <td>2.000000</td>\n",
       "      <td>0.000000</td>\n",
       "      <td>4.000000</td>\n",
       "      <td>0.000000</td>\n",
       "      <td>1.000000</td>\n",
       "      <td>0.000000</td>\n",
       "      <td>1.000000</td>\n",
       "      <td>0.337083</td>\n",
       "      <td>0.337842</td>\n",
       "      <td>0.520000</td>\n",
       "      <td>0.134950</td>\n",
       "      <td>315.500000</td>\n",
       "      <td>2497.000000</td>\n",
       "      <td>3152.000000</td>\n",
       "    </tr>\n",
       "    <tr>\n",
       "      <th>50%</th>\n",
       "      <td>366.000000</td>\n",
       "      <td>3.000000</td>\n",
       "      <td>1.000000</td>\n",
       "      <td>7.000000</td>\n",
       "      <td>0.000000</td>\n",
       "      <td>3.000000</td>\n",
       "      <td>1.000000</td>\n",
       "      <td>1.000000</td>\n",
       "      <td>0.498333</td>\n",
       "      <td>0.486733</td>\n",
       "      <td>0.626667</td>\n",
       "      <td>0.180975</td>\n",
       "      <td>713.000000</td>\n",
       "      <td>3662.000000</td>\n",
       "      <td>4548.000000</td>\n",
       "    </tr>\n",
       "    <tr>\n",
       "      <th>75%</th>\n",
       "      <td>548.500000</td>\n",
       "      <td>3.000000</td>\n",
       "      <td>1.000000</td>\n",
       "      <td>10.000000</td>\n",
       "      <td>0.000000</td>\n",
       "      <td>5.000000</td>\n",
       "      <td>1.000000</td>\n",
       "      <td>2.000000</td>\n",
       "      <td>0.655417</td>\n",
       "      <td>0.608602</td>\n",
       "      <td>0.730209</td>\n",
       "      <td>0.233214</td>\n",
       "      <td>1096.000000</td>\n",
       "      <td>4776.500000</td>\n",
       "      <td>5956.000000</td>\n",
       "    </tr>\n",
       "    <tr>\n",
       "      <th>max</th>\n",
       "      <td>731.000000</td>\n",
       "      <td>4.000000</td>\n",
       "      <td>1.000000</td>\n",
       "      <td>12.000000</td>\n",
       "      <td>1.000000</td>\n",
       "      <td>6.000000</td>\n",
       "      <td>1.000000</td>\n",
       "      <td>3.000000</td>\n",
       "      <td>0.861667</td>\n",
       "      <td>0.840896</td>\n",
       "      <td>0.972500</td>\n",
       "      <td>0.507463</td>\n",
       "      <td>3410.000000</td>\n",
       "      <td>6946.000000</td>\n",
       "      <td>8714.000000</td>\n",
       "    </tr>\n",
       "  </tbody>\n",
       "</table>\n",
       "</div>"
      ],
      "text/plain": [
       "          instant      season          yr        mnth     holiday     weekday  \\\n",
       "count  731.000000  731.000000  731.000000  731.000000  731.000000  731.000000   \n",
       "mean   366.000000    2.496580    0.500684    6.519836    0.028728    2.997264   \n",
       "std    211.165812    1.110807    0.500342    3.451913    0.167155    2.004787   \n",
       "min      1.000000    1.000000    0.000000    1.000000    0.000000    0.000000   \n",
       "25%    183.500000    2.000000    0.000000    4.000000    0.000000    1.000000   \n",
       "50%    366.000000    3.000000    1.000000    7.000000    0.000000    3.000000   \n",
       "75%    548.500000    3.000000    1.000000   10.000000    0.000000    5.000000   \n",
       "max    731.000000    4.000000    1.000000   12.000000    1.000000    6.000000   \n",
       "\n",
       "       workingday  weathersit        temp       atemp         hum   windspeed  \\\n",
       "count  731.000000  731.000000  731.000000  731.000000  731.000000  731.000000   \n",
       "mean     0.683995    1.395349    0.495385    0.474354    0.627894    0.190486   \n",
       "std      0.465233    0.544894    0.183051    0.162961    0.142429    0.077498   \n",
       "min      0.000000    1.000000    0.059130    0.079070    0.000000    0.022392   \n",
       "25%      0.000000    1.000000    0.337083    0.337842    0.520000    0.134950   \n",
       "50%      1.000000    1.000000    0.498333    0.486733    0.626667    0.180975   \n",
       "75%      1.000000    2.000000    0.655417    0.608602    0.730209    0.233214   \n",
       "max      1.000000    3.000000    0.861667    0.840896    0.972500    0.507463   \n",
       "\n",
       "            casual   registered          cnt  \n",
       "count   731.000000   731.000000   731.000000  \n",
       "mean    848.176471  3656.172367  4504.348837  \n",
       "std     686.622488  1560.256377  1937.211452  \n",
       "min       2.000000    20.000000    22.000000  \n",
       "25%     315.500000  2497.000000  3152.000000  \n",
       "50%     713.000000  3662.000000  4548.000000  \n",
       "75%    1096.000000  4776.500000  5956.000000  \n",
       "max    3410.000000  6946.000000  8714.000000  "
      ]
     },
     "execution_count": 5,
     "metadata": {},
     "output_type": "execute_result"
    }
   ],
   "source": [
    "day_df.describe()"
   ]
  },
  {
   "cell_type": "markdown",
   "id": "49695078-2f65-48a2-803f-95a2b82c5f90",
   "metadata": {},
   "source": [
    "Tampilan di atas kita tidak menemukan adanya inaccurate value"
   ]
  },
  {
   "cell_type": "markdown",
   "id": "372b2c66-55d3-47cb-ba8b-a4f28a36f2b6",
   "metadata": {},
   "source": [
    "### Cleaning Data"
   ]
  },
  {
   "cell_type": "markdown",
   "id": "38df415d-4911-4622-8ed8-69a5e75fffa8",
   "metadata": {},
   "source": [
    "mengubah tipe data di kolom dteday yang tadinya bertipe objek menjadi bertipe datetime"
   ]
  },
  {
   "cell_type": "code",
   "execution_count": 6,
   "id": "c9969da0-2142-4dac-ba7b-56bb744b562a",
   "metadata": {},
   "outputs": [],
   "source": [
    "datetime_columns = [\"dteday\"]\n",
    "\n",
    "for column in datetime_columns:\n",
    "    day_df[column] = pd.to_datetime(day_df[column])"
   ]
  },
  {
   "cell_type": "code",
   "execution_count": 7,
   "id": "281d27ec-e191-4ab1-8f69-4ed01ae922ed",
   "metadata": {},
   "outputs": [
    {
     "name": "stdout",
     "output_type": "stream",
     "text": [
      "<class 'pandas.core.frame.DataFrame'>\n",
      "RangeIndex: 731 entries, 0 to 730\n",
      "Data columns (total 16 columns):\n",
      " #   Column      Non-Null Count  Dtype         \n",
      "---  ------      --------------  -----         \n",
      " 0   instant     731 non-null    int64         \n",
      " 1   dteday      731 non-null    datetime64[ns]\n",
      " 2   season      731 non-null    int64         \n",
      " 3   yr          731 non-null    int64         \n",
      " 4   mnth        731 non-null    int64         \n",
      " 5   holiday     731 non-null    int64         \n",
      " 6   weekday     731 non-null    int64         \n",
      " 7   workingday  731 non-null    int64         \n",
      " 8   weathersit  731 non-null    int64         \n",
      " 9   temp        731 non-null    float64       \n",
      " 10  atemp       731 non-null    float64       \n",
      " 11  hum         731 non-null    float64       \n",
      " 12  windspeed   731 non-null    float64       \n",
      " 13  casual      731 non-null    int64         \n",
      " 14  registered  731 non-null    int64         \n",
      " 15  cnt         731 non-null    int64         \n",
      "dtypes: datetime64[ns](1), float64(4), int64(11)\n",
      "memory usage: 91.5 KB\n"
     ]
    }
   ],
   "source": [
    "day_df.info()"
   ]
  },
  {
   "cell_type": "markdown",
   "id": "8266b3ba-dc2d-4bac-b1aa-edcbfc3dc7ed",
   "metadata": {},
   "source": [
    "## Exploratory Data Analysis (EDA)"
   ]
  },
  {
   "cell_type": "markdown",
   "id": "828c14b8-b9e7-41c1-9c15-42d787ff87d1",
   "metadata": {},
   "source": [
    "Mencari berapa jumlah pengguna tiap bulannya dengan menggunakan grupby"
   ]
  },
  {
   "cell_type": "code",
   "execution_count": 8,
   "id": "dbe543a8-bac0-4a3e-8b04-4b97ab380b84",
   "metadata": {},
   "outputs": [
    {
     "data": {
      "text/html": [
       "<div>\n",
       "<style scoped>\n",
       "    .dataframe tbody tr th:only-of-type {\n",
       "        vertical-align: middle;\n",
       "    }\n",
       "\n",
       "    .dataframe tbody tr th {\n",
       "        vertical-align: top;\n",
       "    }\n",
       "\n",
       "    .dataframe thead th {\n",
       "        text-align: right;\n",
       "    }\n",
       "</style>\n",
       "<table border=\"1\" class=\"dataframe\">\n",
       "  <thead>\n",
       "    <tr style=\"text-align: right;\">\n",
       "      <th></th>\n",
       "      <th></th>\n",
       "      <th>cnt</th>\n",
       "    </tr>\n",
       "    <tr>\n",
       "      <th>yr</th>\n",
       "      <th>mnth</th>\n",
       "      <th></th>\n",
       "    </tr>\n",
       "  </thead>\n",
       "  <tbody>\n",
       "    <tr>\n",
       "      <th rowspan=\"12\" valign=\"top\">0</th>\n",
       "      <th>1</th>\n",
       "      <td>38189</td>\n",
       "    </tr>\n",
       "    <tr>\n",
       "      <th>2</th>\n",
       "      <td>48215</td>\n",
       "    </tr>\n",
       "    <tr>\n",
       "      <th>3</th>\n",
       "      <td>64045</td>\n",
       "    </tr>\n",
       "    <tr>\n",
       "      <th>4</th>\n",
       "      <td>94870</td>\n",
       "    </tr>\n",
       "    <tr>\n",
       "      <th>5</th>\n",
       "      <td>135821</td>\n",
       "    </tr>\n",
       "    <tr>\n",
       "      <th>6</th>\n",
       "      <td>143512</td>\n",
       "    </tr>\n",
       "    <tr>\n",
       "      <th>7</th>\n",
       "      <td>141341</td>\n",
       "    </tr>\n",
       "    <tr>\n",
       "      <th>8</th>\n",
       "      <td>136691</td>\n",
       "    </tr>\n",
       "    <tr>\n",
       "      <th>9</th>\n",
       "      <td>127418</td>\n",
       "    </tr>\n",
       "    <tr>\n",
       "      <th>10</th>\n",
       "      <td>123511</td>\n",
       "    </tr>\n",
       "    <tr>\n",
       "      <th>11</th>\n",
       "      <td>102167</td>\n",
       "    </tr>\n",
       "    <tr>\n",
       "      <th>12</th>\n",
       "      <td>87323</td>\n",
       "    </tr>\n",
       "    <tr>\n",
       "      <th rowspan=\"12\" valign=\"top\">1</th>\n",
       "      <th>1</th>\n",
       "      <td>96744</td>\n",
       "    </tr>\n",
       "    <tr>\n",
       "      <th>2</th>\n",
       "      <td>103137</td>\n",
       "    </tr>\n",
       "    <tr>\n",
       "      <th>3</th>\n",
       "      <td>164875</td>\n",
       "    </tr>\n",
       "    <tr>\n",
       "      <th>4</th>\n",
       "      <td>174224</td>\n",
       "    </tr>\n",
       "    <tr>\n",
       "      <th>5</th>\n",
       "      <td>195865</td>\n",
       "    </tr>\n",
       "    <tr>\n",
       "      <th>6</th>\n",
       "      <td>202830</td>\n",
       "    </tr>\n",
       "    <tr>\n",
       "      <th>7</th>\n",
       "      <td>203607</td>\n",
       "    </tr>\n",
       "    <tr>\n",
       "      <th>8</th>\n",
       "      <td>214503</td>\n",
       "    </tr>\n",
       "    <tr>\n",
       "      <th>9</th>\n",
       "      <td>218573</td>\n",
       "    </tr>\n",
       "    <tr>\n",
       "      <th>10</th>\n",
       "      <td>198841</td>\n",
       "    </tr>\n",
       "    <tr>\n",
       "      <th>11</th>\n",
       "      <td>152664</td>\n",
       "    </tr>\n",
       "    <tr>\n",
       "      <th>12</th>\n",
       "      <td>123713</td>\n",
       "    </tr>\n",
       "  </tbody>\n",
       "</table>\n",
       "</div>"
      ],
      "text/plain": [
       "            cnt\n",
       "yr mnth        \n",
       "0  1      38189\n",
       "   2      48215\n",
       "   3      64045\n",
       "   4      94870\n",
       "   5     135821\n",
       "   6     143512\n",
       "   7     141341\n",
       "   8     136691\n",
       "   9     127418\n",
       "   10    123511\n",
       "   11    102167\n",
       "   12     87323\n",
       "1  1      96744\n",
       "   2     103137\n",
       "   3     164875\n",
       "   4     174224\n",
       "   5     195865\n",
       "   6     202830\n",
       "   7     203607\n",
       "   8     214503\n",
       "   9     218573\n",
       "   10    198841\n",
       "   11    152664\n",
       "   12    123713"
      ]
     },
     "execution_count": 8,
     "metadata": {},
     "output_type": "execute_result"
    }
   ],
   "source": [
    "day_df.groupby(['yr', 'mnth']).agg({\n",
    "    'cnt':\"sum\"\n",
    "})"
   ]
  },
  {
   "cell_type": "markdown",
   "id": "9c13e84d-9194-475d-aa4b-c6074ef70073",
   "metadata": {},
   "source": [
    "Keterangan:\n",
    "- yr\n",
    "- 0 = tahun 2011\n",
    "- 1 = tahun 2012"
   ]
  },
  {
   "cell_type": "markdown",
   "id": "e3c1b732-126d-4755-8b8b-026bf8d0c377",
   "metadata": {},
   "source": [
    "Menggunakan groupby untuk melihat berapa jumlah pengguna casual dan registered berdasarkan season di dua tahun terakhir"
   ]
  },
  {
   "cell_type": "code",
   "execution_count": 9,
   "id": "c63b251e-533d-498c-b4f4-3eb5281cc681",
   "metadata": {},
   "outputs": [
    {
     "data": {
      "text/html": [
       "<div>\n",
       "<style scoped>\n",
       "    .dataframe tbody tr th:only-of-type {\n",
       "        vertical-align: middle;\n",
       "    }\n",
       "\n",
       "    .dataframe tbody tr th {\n",
       "        vertical-align: top;\n",
       "    }\n",
       "\n",
       "    .dataframe thead th {\n",
       "        text-align: right;\n",
       "    }\n",
       "</style>\n",
       "<table border=\"1\" class=\"dataframe\">\n",
       "  <thead>\n",
       "    <tr style=\"text-align: right;\">\n",
       "      <th></th>\n",
       "      <th></th>\n",
       "      <th>casual</th>\n",
       "      <th>registered</th>\n",
       "    </tr>\n",
       "    <tr>\n",
       "      <th>yr</th>\n",
       "      <th>season</th>\n",
       "      <th></th>\n",
       "      <th></th>\n",
       "    </tr>\n",
       "  </thead>\n",
       "  <tbody>\n",
       "    <tr>\n",
       "      <th rowspan=\"4\" valign=\"top\">0</th>\n",
       "      <th>1</th>\n",
       "      <td>21425</td>\n",
       "      <td>128575</td>\n",
       "    </tr>\n",
       "    <tr>\n",
       "      <th>2</th>\n",
       "      <td>77564</td>\n",
       "      <td>269752</td>\n",
       "    </tr>\n",
       "    <tr>\n",
       "      <th>3</th>\n",
       "      <td>95450</td>\n",
       "      <td>324200</td>\n",
       "    </tr>\n",
       "    <tr>\n",
       "      <th>4</th>\n",
       "      <td>52813</td>\n",
       "      <td>273324</td>\n",
       "    </tr>\n",
       "    <tr>\n",
       "      <th rowspan=\"4\" valign=\"top\">1</th>\n",
       "      <th>1</th>\n",
       "      <td>39197</td>\n",
       "      <td>282151</td>\n",
       "    </tr>\n",
       "    <tr>\n",
       "      <th>2</th>\n",
       "      <td>125958</td>\n",
       "      <td>445315</td>\n",
       "    </tr>\n",
       "    <tr>\n",
       "      <th>3</th>\n",
       "      <td>130641</td>\n",
       "      <td>510838</td>\n",
       "    </tr>\n",
       "    <tr>\n",
       "      <th>4</th>\n",
       "      <td>76969</td>\n",
       "      <td>438507</td>\n",
       "    </tr>\n",
       "  </tbody>\n",
       "</table>\n",
       "</div>"
      ],
      "text/plain": [
       "           casual  registered\n",
       "yr season                    \n",
       "0  1        21425      128575\n",
       "   2        77564      269752\n",
       "   3        95450      324200\n",
       "   4        52813      273324\n",
       "1  1        39197      282151\n",
       "   2       125958      445315\n",
       "   3       130641      510838\n",
       "   4        76969      438507"
      ]
     },
     "execution_count": 9,
     "metadata": {},
     "output_type": "execute_result"
    }
   ],
   "source": [
    "day_df.groupby(['yr', 'season']).agg({\n",
    "    'casual':\"sum\",\n",
    "    'registered':\"sum\"\n",
    "})"
   ]
  },
  {
   "cell_type": "markdown",
   "id": "0aef894d-a935-4f54-a9c4-3b80407aa11b",
   "metadata": {},
   "source": [
    "keterangan:\n",
    "- season\n",
    "- 1 = springer\n",
    "- 2 = summer\n",
    "- 3 = fall\n",
    "- 4 = winter"
   ]
  },
  {
   "cell_type": "markdown",
   "id": "8dd83d05-589f-4f3d-8be2-8ddefca87074",
   "metadata": {},
   "source": [
    "Untuk mempermudah visualisasi nantinya, kita akan menambahkan kolom baru bernama 'nameseason' berisi keterangan season seperti di atas"
   ]
  },
  {
   "cell_type": "code",
   "execution_count": 10,
   "id": "373998e7-1e40-4fc6-b93e-f7d54e23d29d",
   "metadata": {},
   "outputs": [],
   "source": [
    "def conditions(s):\n",
    "    if (s['season'] == 1):\n",
    "        return \"springer\"\n",
    "    elif (s['season'] == 2):\n",
    "        return \"summer\"\n",
    "    elif (s['season'] == 3):\n",
    "        return \"fall\"\n",
    "    else:\n",
    "        return \"winter\"\n",
    "\n",
    "day_df['nameseason'] = day_df.apply(conditions, axis=1)"
   ]
  },
  {
   "cell_type": "markdown",
   "id": "c95e8f6d-6dbd-4cad-998a-8fdb89d6350a",
   "metadata": {},
   "source": [
    "Melihat rata rata penggunaan pengguna berdasarkan weekend, hari kerja, dan hari libur nasional"
   ]
  },
  {
   "cell_type": "code",
   "execution_count": 11,
   "id": "66ef10aa-f909-4979-afc8-78ed56f10151",
   "metadata": {},
   "outputs": [
    {
     "data": {
      "text/html": [
       "<div>\n",
       "<style scoped>\n",
       "    .dataframe tbody tr th:only-of-type {\n",
       "        vertical-align: middle;\n",
       "    }\n",
       "\n",
       "    .dataframe tbody tr th {\n",
       "        vertical-align: top;\n",
       "    }\n",
       "\n",
       "    .dataframe thead th {\n",
       "        text-align: right;\n",
       "    }\n",
       "</style>\n",
       "<table border=\"1\" class=\"dataframe\">\n",
       "  <thead>\n",
       "    <tr style=\"text-align: right;\">\n",
       "      <th></th>\n",
       "      <th></th>\n",
       "      <th>casual</th>\n",
       "      <th>registered</th>\n",
       "    </tr>\n",
       "    <tr>\n",
       "      <th>holiday</th>\n",
       "      <th>workingday</th>\n",
       "      <th></th>\n",
       "      <th></th>\n",
       "    </tr>\n",
       "  </thead>\n",
       "  <tbody>\n",
       "    <tr>\n",
       "      <th rowspan=\"2\" valign=\"top\">0</th>\n",
       "      <th>0</th>\n",
       "      <td>1401.776190</td>\n",
       "      <td>2987.909524</td>\n",
       "    </tr>\n",
       "    <tr>\n",
       "      <th>1</th>\n",
       "      <td>606.570000</td>\n",
       "      <td>3978.250000</td>\n",
       "    </tr>\n",
       "    <tr>\n",
       "      <th>1</th>\n",
       "      <th>0</th>\n",
       "      <td>1064.714286</td>\n",
       "      <td>2670.285714</td>\n",
       "    </tr>\n",
       "  </tbody>\n",
       "</table>\n",
       "</div>"
      ],
      "text/plain": [
       "                         casual   registered\n",
       "holiday workingday                          \n",
       "0       0           1401.776190  2987.909524\n",
       "        1            606.570000  3978.250000\n",
       "1       0           1064.714286  2670.285714"
      ]
     },
     "execution_count": 11,
     "metadata": {},
     "output_type": "execute_result"
    }
   ],
   "source": [
    "day_df.groupby(['holiday', 'workingday']).agg({\n",
    "    'casual':\"mean\",\n",
    "    'registered':\"mean\"\n",
    "})"
   ]
  },
  {
   "cell_type": "markdown",
   "id": "58b13715-7f5d-44de-be13-04937d0d9dd2",
   "metadata": {},
   "source": [
    "keterangan:\n",
    "- holliday + workingday\n",
    "- 0 + 0 = Weekend (sabtu dan minggu)\n",
    "- 0 + 1 = workingday (senin sampai jum'at)\n",
    "- 1 + 0 = holyday (hari libur nasional)"
   ]
  },
  {
   "cell_type": "markdown",
   "id": "9b0fc2ee-7cfc-4b91-92f0-98058f891cdb",
   "metadata": {},
   "source": [
    "Membuat kolom baru bernama 'weekdesc' berisi keterangan hari holiday, working day, dan weekend agar mudah di visualisasi"
   ]
  },
  {
   "cell_type": "code",
   "execution_count": 12,
   "id": "0bc141bb-bbba-4868-a1c2-153bc9a04371",
   "metadata": {},
   "outputs": [],
   "source": [
    "def conditions(s):\n",
    "    if (s['holiday'] == 0) and (s['workingday'] == 1):\n",
    "        return \"working day\"\n",
    "    elif (s['holiday'] == 1) and (s['workingday'] == 0):\n",
    "        return \"holiday\"\n",
    "    else:\n",
    "        return \"weekend\"\n",
    "\n",
    "day_df['weekdesc'] = day_df.apply(conditions, axis=1)"
   ]
  },
  {
   "cell_type": "markdown",
   "id": "0ad35cdc-1fc0-4782-b1f9-ecbb0ef5f320",
   "metadata": {},
   "source": [
    "Memastikan hasil yang di atas mari kita lihat pengguna berdasarkan hari minggu sampai senin agar lebih detail."
   ]
  },
  {
   "cell_type": "code",
   "execution_count": 13,
   "id": "a1bb81ad-5850-42a5-974b-1164b759c1c5",
   "metadata": {},
   "outputs": [
    {
     "data": {
      "text/html": [
       "<div>\n",
       "<style scoped>\n",
       "    .dataframe tbody tr th:only-of-type {\n",
       "        vertical-align: middle;\n",
       "    }\n",
       "\n",
       "    .dataframe tbody tr th {\n",
       "        vertical-align: top;\n",
       "    }\n",
       "\n",
       "    .dataframe thead th {\n",
       "        text-align: right;\n",
       "    }\n",
       "</style>\n",
       "<table border=\"1\" class=\"dataframe\">\n",
       "  <thead>\n",
       "    <tr style=\"text-align: right;\">\n",
       "      <th></th>\n",
       "      <th>casual</th>\n",
       "      <th>registered</th>\n",
       "    </tr>\n",
       "    <tr>\n",
       "      <th>weekday</th>\n",
       "      <th></th>\n",
       "      <th></th>\n",
       "    </tr>\n",
       "  </thead>\n",
       "  <tbody>\n",
       "    <tr>\n",
       "      <th>0</th>\n",
       "      <td>1338.295238</td>\n",
       "      <td>2890.533333</td>\n",
       "    </tr>\n",
       "    <tr>\n",
       "      <th>1</th>\n",
       "      <td>674.133333</td>\n",
       "      <td>3663.990476</td>\n",
       "    </tr>\n",
       "    <tr>\n",
       "      <th>2</th>\n",
       "      <td>556.182692</td>\n",
       "      <td>3954.480769</td>\n",
       "    </tr>\n",
       "    <tr>\n",
       "      <th>3</th>\n",
       "      <td>551.144231</td>\n",
       "      <td>3997.394231</td>\n",
       "    </tr>\n",
       "    <tr>\n",
       "      <th>4</th>\n",
       "      <td>590.961538</td>\n",
       "      <td>4076.298077</td>\n",
       "    </tr>\n",
       "    <tr>\n",
       "      <th>5</th>\n",
       "      <td>752.288462</td>\n",
       "      <td>3938.000000</td>\n",
       "    </tr>\n",
       "    <tr>\n",
       "      <th>6</th>\n",
       "      <td>1465.257143</td>\n",
       "      <td>3085.285714</td>\n",
       "    </tr>\n",
       "  </tbody>\n",
       "</table>\n",
       "</div>"
      ],
      "text/plain": [
       "              casual   registered\n",
       "weekday                          \n",
       "0        1338.295238  2890.533333\n",
       "1         674.133333  3663.990476\n",
       "2         556.182692  3954.480769\n",
       "3         551.144231  3997.394231\n",
       "4         590.961538  4076.298077\n",
       "5         752.288462  3938.000000\n",
       "6        1465.257143  3085.285714"
      ]
     },
     "execution_count": 13,
     "metadata": {},
     "output_type": "execute_result"
    }
   ],
   "source": [
    "day_df.groupby(by='weekday').agg({\n",
    "    'casual':\"mean\",\n",
    "    'registered':\"mean\"\n",
    "})"
   ]
  },
  {
   "cell_type": "markdown",
   "id": "1f077033-66af-4c1a-aa10-914a0ea70615",
   "metadata": {},
   "source": [
    "keterangan:\n",
    "- 0 = minggu\n",
    "- 1 = senin\n",
    "- 2 = selasa\n",
    "- 3 = rabu\n",
    "- 4 = kamis\n",
    "- 5 = jumat\n",
    "- 6 = sabtu"
   ]
  },
  {
   "cell_type": "markdown",
   "id": "5642f9b9-a909-44cb-bb2e-8cb59c60c7bc",
   "metadata": {},
   "source": [
    "## Visualization & Explanatory Analysis"
   ]
  },
  {
   "cell_type": "markdown",
   "id": "b63e92c6-9ba2-45de-b11a-647c8fc0fa71",
   "metadata": {},
   "source": [
    "### Pertanyaan 1 : Berapa banyak total pengguna dalam beberapa bulan terakhir"
   ]
  },
  {
   "cell_type": "markdown",
   "id": "d0884063-3162-4789-a710-d32851b93b66",
   "metadata": {},
   "source": [
    "agar mudah divisualisasi, dataframe day_df di bagi menjadi dua yaitu data tahun 2011 dan data tahun 2012"
   ]
  },
  {
   "cell_type": "code",
   "execution_count": 14,
   "id": "5b3a6cc9-fee8-4b4d-8e1a-5aa7368ffdf3",
   "metadata": {},
   "outputs": [],
   "source": [
    "only_2011_df = day_df[(day_df['dteday'] > \"2011-01-01\") & (day_df['dteday'] < \"2011-12-31\")]"
   ]
  },
  {
   "cell_type": "code",
   "execution_count": 15,
   "id": "85f04d9f-2d8b-4809-b0a9-2c12ccad07cb",
   "metadata": {},
   "outputs": [],
   "source": [
    "only_2012_df = day_df[(day_df['dteday'] > \"2012-01-01\") & (day_df['dteday'] < \"2012-12-31\")]"
   ]
  },
  {
   "cell_type": "code",
   "execution_count": 16,
   "id": "a5bc5a8c-783f-440f-9238-c9b359481084",
   "metadata": {},
   "outputs": [
    {
     "data": {
      "image/png": "[encoded data removed]",
      "text/plain": [
       "<Figure size 1000x500 with 1 Axes>"
      ]
     },
     "metadata": {},
     "output_type": "display_data"
    }
   ],
   "source": [
    "month_cnt_sum11_df = only_2011_df.resample(rule='M', on='dteday').agg({\n",
    "    \"cnt\": \"sum\"\n",
    "})\n",
    "month_cnt_sum11_df.index = month_cnt_sum11_df.index.strftime('%B') #mengubah format order date menjadi per bulan\n",
    "\n",
    "month_cnt_sum11_df = month_cnt_sum11_df.reset_index()\n",
    "month_cnt_sum11_df.rename(columns={\n",
    "    \"dteday\": \"bulan\",\n",
    "    \"cnt\": \"jumlah_total\"\n",
    "}, inplace=True)\n",
    "\n",
    "\n",
    "month_cnt_sum12_df = only_2012_df.resample(rule='M', on='dteday').agg({\n",
    "    \"cnt\": \"sum\"\n",
    "})\n",
    "month_cnt_sum12_df.index = month_cnt_sum12_df.index.strftime('%B') #mengubah format order date menjadi per bulan\n",
    "\n",
    "month_cnt_sum12_df = month_cnt_sum12_df.reset_index()\n",
    "month_cnt_sum12_df.rename(columns={\n",
    "    \"dteday\": \"bulan\",\n",
    "    \"cnt\": \"jumlah_total\"\n",
    "}, inplace=True)\n",
    "\n",
    "plt.figure(figsize=(10, 5))\n",
    "plt.plot(month_cnt_sum12_df[\"bulan\"], month_cnt_sum12_df[\"jumlah_total\"], marker='o', linewidth=2, color=\"green\", label=2012)\n",
    "plt.plot(month_cnt_sum11_df[\"bulan\"], month_cnt_sum11_df[\"jumlah_total\"], marker='o', linewidth=2, color=\"orange\", label=2011)\n",
    "plt.title(\"Jumlah Total Pengguna per Bulan (2011 - 2012)\", loc=\"center\", fontsize=20)\n",
    "plt.xticks(rotation=45, fontsize=10) # memutar font bulan agar mudah terbaca\n",
    "plt.yticks(fontsize=10)\n",
    "plt.legend()\n",
    "plt.show()"
   ]
  },
  {
   "cell_type": "markdown",
   "id": "b298156f-8ee7-49ae-a8a3-a07c8819114c",
   "metadata": {},
   "source": [
    "### Pertanyaan 2: Season apa yang paling banyak penggunanya dan paling sedikit"
   ]
  },
  {
   "cell_type": "markdown",
   "id": "a81cd5ed-7fb0-4b0f-aea9-f9f22efb0bf1",
   "metadata": {},
   "source": [
    "jumlah pengguna casual dan registered berdasarkan season di tahun 2011"
   ]
  },
  {
   "cell_type": "code",
   "execution_count": 26,
   "id": "356a223b-a00d-4b9e-8928-13d976797b6a",
   "metadata": {},
   "outputs": [
    {
     "data": {
      "text/plain": [
       "<Axes: ylabel='nameseason'>"
      ]
     },
     "execution_count": 26,
     "metadata": {},
     "output_type": "execute_result"
    },
    {
     "data": {
      "image/png": "[encoded data removed]",
      "text/plain": [
       "<Figure size 640x480 with 1 Axes>"
      ]
     },
     "metadata": {},
     "output_type": "display_data"
    }
   ],
   "source": [
    "season_sum11_df = only_2011_df.groupby(by='nameseason').agg({\n",
    "    'season':\"unique\",\n",
    "    'casual':\"sum\",\n",
    "    'registered':\"sum\"\n",
    "})\n",
    "season_sum11_df.sort_values(by='season', ascending=False).plot(kind='barh')"
   ]
  },
  {
   "cell_type": "markdown",
   "id": "b655a137-7ebf-40c9-b4c1-492020dc15e5",
   "metadata": {},
   "source": [
    "jumlah pengguna casual dan registered berdasarkan season di tahun 2012"
   ]
  },
  {
   "cell_type": "code",
   "execution_count": 18,
   "id": "e1200fb1-18ca-4b71-a761-0412ba0c072d",
   "metadata": {},
   "outputs": [
    {
     "data": {
      "text/plain": [
       "<Axes: ylabel='nameseason'>"
      ]
     },
     "execution_count": 18,
     "metadata": {},
     "output_type": "execute_result"
    },
    {
     "data": {
      "image/png": "[encoded data removed]",
      "text/plain": [
       "<Figure size 640x480 with 1 Axes>"
      ]
     },
     "metadata": {},
     "output_type": "display_data"
    }
   ],
   "source": [
    "season_sum12_df = only_2012_df.groupby(by='nameseason').agg({\n",
    "    'season':\"unique\",\n",
    "    'casual':\"sum\",\n",
    "    'registered':\"sum\"\n",
    "})\n",
    "season_sum12_df.sort_values(by='season', ascending=False).plot(kind='barh')"
   ]
  },
  {
   "cell_type": "markdown",
   "id": "43b225a8-a4b8-4afb-8493-cc34eb1a799e",
   "metadata": {},
   "source": [
    "### Pertanyaan 3: Bagaimana kebiasaan pengguna dalam menggunakan bike rental"
   ]
  },
  {
   "cell_type": "markdown",
   "id": "8ec5b9c9-395f-4ba7-b88c-6ba8ed1b62c4",
   "metadata": {},
   "source": [
    "Membuat visualisasi perbandingan rata-rata pengguna terhadap hari weekend, workingday, dan hari holiday dalam dua tahun"
   ]
  },
  {
   "cell_type": "code",
   "execution_count": 19,
   "id": "d704c4b7-85ac-45d6-9a76-b4ab5727ff4b",
   "metadata": {
    "scrolled": true
   },
   "outputs": [],
   "source": [
    "hw_mean_df = day_df.groupby(['weekdesc']).agg({\n",
    "    'casual':\"mean\",\n",
    "    'registered':\"mean\"\n",
    "})"
   ]
  },
  {
   "cell_type": "code",
   "execution_count": 24,
   "id": "95be9cb1-bd35-4545-95ac-aaa4703afd7a",
   "metadata": {},
   "outputs": [
    {
     "name": "stderr",
     "output_type": "stream",
     "text": [
      "C:\\Users\\r\\AppData\\Local\\Temp\\ipykernel_11032\\4202013870.py:5: FutureWarning: \n",
      "\n",
      "Passing `palette` without assigning `hue` is deprecated and will be removed in v0.14.0. Assign the `x` variable to `hue` and set `legend=False` for the same effect.\n",
      "\n",
      "  sns.barplot(\n"
     ]
    },
    {
     "data": {
      "image/png": "[encoded data removed]",
      "text/plain": [
       "<Figure size 1000x500 with 1 Axes>"
      ]
     },
     "metadata": {},
     "output_type": "display_data"
    }
   ],
   "source": [
    "fig, ax = plt.subplots(figsize=(10, 5))\n",
    "\n",
    "colors = [\"#40E0D0\", \"#B2BEB5\", \"#B2BEB5\"]\n",
    " \n",
    "sns.barplot(\n",
    "    y=\"casual\", \n",
    "    x=\"weekdesc\",\n",
    "    data=hw_mean_df.sort_values(by=\"casual\", ascending=False), \n",
    "    palette=colors,\n",
    ")\n",
    "plt.title(\"pengguna casual\", loc=\"center\", fontsize=20)\n",
    "plt.ylabel(None)\n",
    "plt.xlabel(None)\n",
    "plt.tick_params(axis='x', labelsize=10)\n",
    "plt.show()"
   ]
  },
  {
   "cell_type": "code",
   "execution_count": 23,
   "id": "f3301fa0-45db-4df4-b800-ce81b915b912",
   "metadata": {},
   "outputs": [
    {
     "name": "stderr",
     "output_type": "stream",
     "text": [
      "C:\\Users\\r\\AppData\\Local\\Temp\\ipykernel_11032\\1521700623.py:5: FutureWarning: \n",
      "\n",
      "Passing `palette` without assigning `hue` is deprecated and will be removed in v0.14.0. Assign the `x` variable to `hue` and set `legend=False` for the same effect.\n",
      "\n",
      "  sns.barplot(\n"
     ]
    },
    {
     "data": {
      "image/png": "[encoded data removed]",
      "text/plain": [
       "<Figure size 1000x500 with 1 Axes>"
      ]
     },
     "metadata": {},
     "output_type": "display_data"
    }
   ],
   "source": [
    "fig, ax = plt.subplots(figsize=(10, 5))\n",
    "\n",
    "colors = [\"#40E0D0\", \"#B2BEB5\", \"#B2BEB5\"]\n",
    " \n",
    "sns.barplot(\n",
    "    y=\"registered\", \n",
    "    x=\"weekdesc\",\n",
    "    data=hw_mean_df.sort_values(by=\"registered\", ascending=False), \n",
    "    palette=colors,\n",
    ")\n",
    "plt.title(\"pengguna registered\", loc=\"center\", fontsize=20)\n",
    "plt.ylabel(None)\n",
    "plt.xlabel(None)\n",
    "plt.tick_params(axis='x', labelsize=10)\n",
    "plt.show()"
   ]
  },
  {
   "cell_type": "markdown",
   "id": "0d527e63-108c-4873-a2dc-cd3444b8754f",
   "metadata": {},
   "source": [
    "terakhir kita buat file csv yang sudah melalui proses assessing data sampai visualisasi"
   ]
  },
  {
   "cell_type": "code",
   "execution_count": 22,
   "id": "bac271e5-0821-430b-b1cc-1efc63478506",
   "metadata": {},
   "outputs": [],
   "source": [
    "day_df.to_csv(\"main_data.csv\", index=False)"
   ]
  },
  {
   "cell_type": "markdown",
   "id": "26fd9e31-23b1-4b8c-8ba2-0e12440c9724",
   "metadata": {},
   "source": [
    "## Conclusion"
   ]
  },
  {
   "cell_type": "markdown",
   "id": "08603830-47ad-47d5-a773-272cc07a2239",
   "metadata": {},
   "source": [
    "- Conclusion pertanyaan 1 : Berapa banyak total pengguna dalam beberapa bulan terakhir?\n",
    "    - seperti tahun sebelumnya total pengguna dalam beberapa bulan terakhir mengalami penurunan dan biasanya akan barangsur kembali meningkat **januari** dan meningkat signifikan pada bulan **februari** atau **maret**.\n",
    "<br>\n",
    "- Conclusion pertanyaan 2 : Season apa yang paling banyak penggunanya dan paling sedikit?\n",
    "    - di tahun 2011 dan 2012 season yang paling banyak penggunanya, baik itu pengguna casual dan registered yaitu **season Fall** atau season ketiga. dan sebaliknya season dengan pengguna yang paling sedikit yaitu **season springer** atau season pertama.\n",
    "<br>\n",
    "- Conclusion pertanyaan 3 : Bagaimana kebiasaan pengguna dalam menggunakan bike rental?\n",
    "    - pengguna casual rata rata menggunakan bike rental di hari weekend dan pengguna registered rata rata mengunakan bike rental di working day."
   ]
  },
  {
   "cell_type": "code",
   "execution_count": null,
   "id": "ebe92653-5274-4418-b6a7-709d1fdf05d4",
   "metadata": {},
   "outputs": [],
   "source": []
  }
 ],
 "metadata": {
  "kernelspec": {
   "display_name": "Python 3 (ipykernel)",
   "language": "python",
   "name": "python3"
  },
  "language_info": {
   "codemirror_mode": {
    "name": "ipython",
    "version": 3
   },
   "file_extension": ".py",
   "mimetype": "text/x-python",
   "name": "python",
   "nbconvert_exporter": "python",
   "pygments_lexer": "ipython3",
   "version": "3.9.18"
  }
 },
 "nbformat": 4,
 "nbformat_minor": 5
}
